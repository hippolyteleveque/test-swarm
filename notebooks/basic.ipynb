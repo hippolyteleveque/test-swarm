{
 "cells": [
  {
   "cell_type": "markdown",
   "id": "d55b3f06-e8be-44ed-bb9e-0c269c10138a",
   "metadata": {},
   "source": [
    "# 1. Packages & Setup"
   ]
  },
  {
   "cell_type": "code",
   "execution_count": 4,
   "id": "419b0347-d50e-42f7-a616-a47236b1f291",
   "metadata": {},
   "outputs": [],
   "source": [
    "from swarm import Swarm, Agent\n",
    "from getpass import getpass\n",
    "import os"
   ]
  },
  {
   "cell_type": "code",
   "execution_count": 5,
   "id": "66675ce6-33c4-4e94-811e-ec05661fd5b2",
   "metadata": {},
   "outputs": [
    {
     "name": "stdin",
     "output_type": "stream",
     "text": [
      " ········\n"
     ]
    }
   ],
   "source": [
    "os.environ[\"OPENAI_API_KEY\"] = getpass()"
   ]
  },
  {
   "cell_type": "code",
   "execution_count": 6,
   "id": "427bb6b7-83bb-4ec4-a338-92c52d24d63f",
   "metadata": {},
   "outputs": [],
   "source": [
    "client = Swarm()"
   ]
  },
  {
   "cell_type": "markdown",
   "id": "0b20a40a-2fe7-4225-b3ce-b8d5fddb19ed",
   "metadata": {},
   "source": [
    "# 2. Tests"
   ]
  },
  {
   "cell_type": "code",
   "execution_count": 7,
   "id": "8aff8cdf-8045-4f76-87bf-53369ad9f4aa",
   "metadata": {},
   "outputs": [],
   "source": [
    "english_agent = Agent(name=\"English Agent\", instructions=\"You only speak English.\")\n",
    "spanish_agent = Agent(name=\"Spanish Agent\", instructions=\"You only speak Spanish.\")"
   ]
  },
  {
   "cell_type": "code",
   "execution_count": 8,
   "id": "d9232cdf-5d54-449e-8203-09d93b799359",
   "metadata": {},
   "outputs": [],
   "source": [
    "def transfer_to_spanish_agent():\n",
    "    \"\"\"Transfer spanish speaking users immediately\"\"\"\n",
    "    return spanish_agent\n"
   ]
  },
  {
   "cell_type": "code",
   "execution_count": 9,
   "id": "5fe489a9-4033-4d53-95ac-c817bd12c1bc",
   "metadata": {},
   "outputs": [],
   "source": [
    "english_agent.functions.append(transfer_to_spanish_agent)"
   ]
  },
  {
   "cell_type": "code",
   "execution_count": 10,
   "id": "f8089d1d-d538-4e4a-a6cb-78bc5f07c956",
   "metadata": {},
   "outputs": [
    {
     "name": "stdout",
     "output_type": "stream",
     "text": [
      "¡Hola! Estoy bien, gracias. ¿Y tú cómo estás?\n"
     ]
    }
   ],
   "source": [
    "messages = [{\"role\": \"user\", \"content\": \"Hola. ¿Como estás?\"}]\n",
    "response = client.run(agent=english_agent, messages=messages)\n",
    "print(response.messages[-1][\"content\"])"
   ]
  },
  {
   "cell_type": "code",
   "execution_count": null,
   "id": "a5acf4d1-8b6b-4ae2-ae32-38296c4366cc",
   "metadata": {},
   "outputs": [],
   "source": []
  }
 ],
 "metadata": {
  "kernelspec": {
   "display_name": "llm-env",
   "language": "python",
   "name": "llm-env"
  },
  "language_info": {
   "codemirror_mode": {
    "name": "ipython",
    "version": 3
   },
   "file_extension": ".py",
   "mimetype": "text/x-python",
   "name": "python",
   "nbconvert_exporter": "python",
   "pygments_lexer": "ipython3",
   "version": "3.11.6"
  }
 },
 "nbformat": 4,
 "nbformat_minor": 5
}
